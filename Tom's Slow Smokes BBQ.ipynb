{
 "cells": [
  {
   "cell_type": "markdown",
   "metadata": {},
   "source": [
    "<font color=red><b>Tom's Slow Smokes BBQ: Where in Toronto?</b></font>"
   ]
  },
  {
   "cell_type": "markdown",
   "metadata": {},
   "source": [
    "<u>Introduction</u><br>\n",
    "Tom has always had a dream of opening his very own barbeque restaurant.  He has contracted with my company to manage the selection process for the eventual location. We've been told that his desired location is Toronto, Canada due to some family connections (and funding) available there. Tom is mindful of wanting to avoid stiff competition in an area, such as opening his restaurant two blocks away from another similar restaurant, but he also does not want to open his restaurant in a space that is not very \"hip\" or \"cool\" -- he wants to make a profit, afterall.\n",
    "\n",
    "We've worked with Tom to develop a high-level assessment of the Toronto area. First, we will look for neighborhoods with a high number of BBQ restaurants; this will tell us not only neighborhoods to avoid, but also will shed light on community characteristics to seek out elsewhere. We will then match these \"BBQ Communities\" with similar communities that do not have a lot of BBQ restaurants, and finally presenting the potential neighborhoods to Tom for final selection.\n",
    "\n",
    "<u>Data</u><br>\n",
    "The data used in this report will be threefold:<br>\n",
    " - <b>Wikipedia</b>: Used to supply the definitions of neighborhoods and their respective buroughs within Toronto\n",
    " - <b>Google Geocoder</b>: Used to ascribe latitude and longitude coordinates to neighborhoods for use in Foursquare\n",
    " - <b>Foursquare</b>: Will provide the ability to search for BBQ restaurants, as well as other community characteristics when it comes time to match"
   ]
  }
 ],
 "metadata": {
  "kernelspec": {
   "display_name": "Python 3",
   "language": "python",
   "name": "python3"
  },
  "language_info": {
   "codemirror_mode": {
    "name": "ipython",
    "version": 3
   },
   "file_extension": ".py",
   "mimetype": "text/x-python",
   "name": "python",
   "nbconvert_exporter": "python",
   "pygments_lexer": "ipython3",
   "version": "3.6.3"
  }
 },
 "nbformat": 4,
 "nbformat_minor": 2
}
